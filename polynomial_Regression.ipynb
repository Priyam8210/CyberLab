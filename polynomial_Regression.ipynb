{
  "cells": [
    {
      "cell_type": "markdown",
      "metadata": {
        "id": "view-in-github",
        "colab_type": "text"
      },
      "source": [
        "<a href=\"https://colab.research.google.com/github/Priyam8210/CyberLab/blob/main/polynomial_Regression.ipynb\" target=\"_parent\"><img src=\"https://colab.research.google.com/assets/colab-badge.svg\" alt=\"Open In Colab\"/></a>"
      ]
    },
    {
      "cell_type": "code",
      "execution_count": 1,
      "metadata": {
        "id": "tmOFobYri8r0"
      },
      "outputs": [],
      "source": [
        "import pandas as pd \n",
        "import numpy as np\n",
        "import matplotlib.pyplot as plt"
      ]
    },
    {
      "cell_type": "code",
      "execution_count": 2,
      "metadata": {
        "colab": {
          "base_uri": "https://localhost:8080/"
        },
        "id": "UD4tBUFCjTtN",
        "outputId": "6e2fa6d2-440d-44a3-b0e2-898f65de0a1f"
      },
      "outputs": [
        {
          "output_type": "stream",
          "name": "stdout",
          "text": [
            "(50000, 5)\n",
            "(10000, 5)\n"
          ]
        }
      ],
      "source": [
        "P_train_data=np.array(pd.read_csv(\"/content/drive/MyDrive/Colab Notebooks/Polynomial_train.csv\"))\n",
        "P_test_data= np.array(pd.read_csv(\"/content/drive/MyDrive/Colab Notebooks/Polynomial_test.csv\"))\n",
        "print(P_train_data.shape)\n",
        "print(P_test_data.shape)"
      ]
    },
    {
      "cell_type": "code",
      "execution_count": 3,
      "metadata": {
        "id": "vglNCOYAjTyP"
      },
      "outputs": [],
      "source": [
        "X1 = P_train_data[:, 1]\n",
        "X2 = P_train_data[:, 2]\n",
        "X3 = P_train_data[:, 3]\n",
        "Y_train = P_train_data[:, 4]\n",
        "X_test1 = P_test_data[:, 1]\n",
        "X_test2 = P_test_data[:, 2]\n",
        "X_test3 = P_test_data[:, 3]\n",
        "Y_test = P_test_data[:,4]\n"
      ]
    },
    {
      "cell_type": "code",
      "execution_count": 4,
      "metadata": {
        "id": "ktt2BeCxkBoM"
      },
      "outputs": [],
      "source": [
        "X12 = (X1*X2)\n",
        "X22 = (X2*X3)\n",
        "X32 = (X3*X1)  \n",
        "\n",
        "X_test12 = (X_test1*X_test2)\n",
        "X_test22 = (X_test2*X_test3)\n",
        "X_test32 = (X_test3*X_test1)\n",
        "\n",
        "\n"
      ]
    },
    {
      "cell_type": "code",
      "execution_count": 5,
      "metadata": {
        "id": "jLzYdFuBjT4c"
      },
      "outputs": [],
      "source": [
        "\n",
        "X_train = np.stack((X1, X12, X2, X22, X3, X32), axis =1)\n",
        "X_test = np.stack(( X_test1, X_test12, X_test2, X_test22, X_test3, X_test32), axis = 1)\n"
      ]
    },
    {
      "cell_type": "code",
      "execution_count": 7,
      "metadata": {
        "id": "nRHqLYi75C4b",
        "outputId": "fb9865f2-61e1-4edb-99ea-9da67916ab2f",
        "colab": {
          "base_uri": "https://localhost:8080/"
        }
      },
      "outputs": [
        {
          "output_type": "stream",
          "name": "stdout",
          "text": [
            "(50000, 6)\n"
          ]
        }
      ],
      "source": [
        "print(X_train.shape)"
      ]
    },
    {
      "cell_type": "code",
      "execution_count": 6,
      "metadata": {
        "id": "9wXkl5VdjT2G"
      },
      "outputs": [],
      "source": [
        "# Mean Normalization\n",
        "def M_regularisation(a):\n",
        "  Mean_colm = np.mean(a, axis=0)\n",
        "  std_dev = np.std(a, axis=0)\n",
        "  a = (a - Mean_colm)/std_dev\n",
        "  return a\n",
        "\n",
        "X_train = M_regularisation(X_train)\n",
        "X_test = M_regularisation(X_test)\n"
      ]
    },
    {
      "cell_type": "code",
      "execution_count": 7,
      "metadata": {
        "id": "LZhYvkB9p38X"
      },
      "outputs": [],
      "source": [
        "m1 = len(X_train)\n",
        "m2 = len(X_test)\n",
        "X_train = np.concatenate((np.random.randn(m1, 1), X_train), axis = 1)\n",
        "X_test = np.concatenate((np.random.randn(m2, 1), X_test), axis= 1)\n",
        "n = np.size(X_train, 1)\n",
        "theata = np.zeros((n,1))"
      ]
    },
    {
      "cell_type": "code",
      "source": [
        "print(X_train)"
      ],
      "metadata": {
        "colab": {
          "base_uri": "https://localhost:8080/"
        },
        "id": "kf9tm6AXkdHp",
        "outputId": "aa2c791b-b250-40c9-9cc3-748cf637ff4c"
      },
      "execution_count": 8,
      "outputs": [
        {
          "output_type": "stream",
          "name": "stdout",
          "text": [
            "[[-0.10302431  0.10575436 -0.17952153 ...  1.71483449 -1.01046228\n",
            "  -0.10962793]\n",
            " [ 0.79962185 -0.24273623  0.16511211 ...  0.97979554 -1.51503783\n",
            "   0.36100688]\n",
            " [ 1.08047054 -0.71495063  0.23619155 ...  0.0983151  -0.32103254\n",
            "   0.22887352]\n",
            " ...\n",
            " [-0.40117543  1.14126721 -0.55404926 ...  0.04000904 -0.08914204\n",
            "  -0.09700629]\n",
            " [ 1.73402543  0.61102245  0.491945   ... -0.65138329 -0.83553764\n",
            "  -0.51097076]\n",
            " [-0.31127576  0.10223777  0.17666169 ... -0.85704796 -0.56034416\n",
            "  -0.05746793]]\n"
          ]
        }
      ]
    },
    {
      "cell_type": "code",
      "execution_count": 9,
      "metadata": {
        "colab": {
          "base_uri": "https://localhost:8080/"
        },
        "id": "3KRfDkWl8GUn",
        "outputId": "3a7cd775-74b7-42f4-90ff-d287a9c8da00"
      },
      "outputs": [
        {
          "output_type": "stream",
          "name": "stdout",
          "text": [
            "[[0.]\n",
            " [0.]\n",
            " [0.]\n",
            " [0.]\n",
            " [0.]\n",
            " [0.]\n",
            " [0.]]\n",
            "(7, 1)\n"
          ]
        }
      ],
      "source": [
        "print(theata)\n",
        "print(theata.shape)"
      ]
    },
    {
      "cell_type": "code",
      "execution_count": 10,
      "metadata": {
        "id": "-moWwro0jT75"
      },
      "outputs": [],
      "source": [
        "def train_polynomial(X_train, Y, theata, alpha, no_of_iteration):\n",
        "  #initializing \n",
        "  m = len(X_train);\n",
        "\n",
        "  for i in range(no_of_iteration):\n",
        "    \n",
        "    #hypothesis\n",
        "    Y_pred = X_train@theata\n",
        "\n",
        "    #cost \n",
        "    cost = (np.sum((Y_pred - Y)**2))/(2*m)\n",
        "\n",
        "    #Gradient descent\n",
        "    theata = theata - (alpha/m)*((X_train.T)@(Y_pred - Y))\n",
        "\n",
        "    #visualization\n",
        "    if i%10==0:\n",
        "      print(\"this is corresponding cost\", cost)\n",
        "      \n",
        "  return theata\n"
      ]
    },
    {
      "cell_type": "code",
      "execution_count": null,
      "metadata": {
        "id": "M1riyiMB8QKQ"
      },
      "outputs": [],
      "source": [
        "theata = train_polynomial(X_train, Y_train, theata, alpha = .0003, no_of_iteration = 100)"
      ]
    },
    {
      "cell_type": "code",
      "execution_count": null,
      "metadata": {
        "colab": {
          "background_save": true
        },
        "id": "Pl8PsOFqukNy"
      },
      "outputs": [],
      "source": [
        "m = len(X_test)\n",
        "\n",
        "#predition\n",
        "Y_Pred = np.dot(X_test, theata)\n",
        "\n",
        "#cost\n",
        "cost_test = (np.sum((Y_Pred - Y_test)**2))/(2*m)\n",
        "print(cost_test)\n"
      ]
    },
    {
      "cell_type": "code",
      "source": [
        "#r2 score for test\n",
        "def r_score(test, pred):\n",
        "  deno = np.sum((np.mean(test) - test)**2)\n",
        "  nemo = np.sum((pred - test)**2)\n",
        "  \n",
        "  r2_score = 1 - (nemo/deno)\n",
        "  return r2_score"
      ],
      "metadata": {
        "id": "gTiC4XbcpaFd"
      },
      "execution_count": null,
      "outputs": []
    },
    {
      "cell_type": "code",
      "source": [
        "r_score(Y_test, Y_Pred)"
      ],
      "metadata": {
        "id": "1jnuxPb0pnfL"
      },
      "execution_count": null,
      "outputs": []
    }
  ],
  "metadata": {
    "colab": {
      "collapsed_sections": [],
      "name": "polynomial Regression.ipynb",
      "provenance": [],
      "mount_file_id": "11ZsmQn7oTiPJgLfMf0-lDZzvsxrzT7oA",
      "authorship_tag": "ABX9TyOSI6/EWkFP6RahnK2L79Yg",
      "include_colab_link": true
    },
    "kernelspec": {
      "display_name": "Python 3",
      "name": "python3"
    },
    "language_info": {
      "name": "python"
    }
  },
  "nbformat": 4,
  "nbformat_minor": 0
}