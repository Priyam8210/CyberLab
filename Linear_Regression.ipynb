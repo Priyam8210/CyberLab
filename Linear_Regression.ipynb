{
  "nbformat": 4,
  "nbformat_minor": 0,
  "metadata": {
    "colab": {
      "name": "Linear Regression.ipynb",
      "provenance": [],
      "collapsed_sections": [],
      "mount_file_id": "14OIgOGzsPyuPxeEiQ4v8MrVhW2qAPBeu",
      "authorship_tag": "ABX9TyNrg2htoYJcNiJCXljgc6Cs",
      "include_colab_link": true
    },
    "kernelspec": {
      "name": "python3",
      "display_name": "Python 3"
    },
    "language_info": {
      "name": "python"
    }
  },
  "cells": [
    {
      "cell_type": "markdown",
      "metadata": {
        "id": "view-in-github",
        "colab_type": "text"
      },
      "source": [
        "<a href=\"https://colab.research.google.com/github/Priyam8210/CyberLab/blob/main/Linear_Regression.ipynb\" target=\"_parent\"><img src=\"https://colab.research.google.com/assets/colab-badge.svg\" alt=\"Open In Colab\"/></a>"
      ]
    },
    {
      "cell_type": "code",
      "execution_count": null,
      "metadata": {
        "id": "WzBAFIwJHHYN"
      },
      "outputs": [],
      "source": [
        "import pandas as pd \n",
        "import numpy as np\n",
        "import matplotlib.pyplot as plt"
      ]
    },
    {
      "cell_type": "code",
      "source": [
        ""
      ],
      "metadata": {
        "id": "g9XBnoKud93H"
      },
      "execution_count": null,
      "outputs": []
    },
    {
      "cell_type": "code",
      "source": [
        "l_train_data=np.array(pd.read_csv(\"/content/drive/MyDrive/Colab Notebooks/Linear_train.csv\"))\n",
        "l_test_data= np.array(pd.read_csv(\"/content/drive/MyDrive/Colab Notebooks/Linear_test.csv\"))\n",
        "print(l_train_data.shape)\n",
        "print(l_test_data.shape)\n"
      ],
      "metadata": {
        "colab": {
          "base_uri": "https://localhost:8080/"
        },
        "id": "TEu077-iJGcC",
        "outputId": "3318529d-27fc-43b9-aa58-ae354af31312"
      },
      "execution_count": null,
      "outputs": [
        {
          "output_type": "stream",
          "name": "stdout",
          "text": [
            "(50000, 22)\n",
            "(10000, 22)\n"
          ]
        }
      ]
    },
    {
      "cell_type": "code",
      "source": [
        "#X = l_train_data[:, 2:22]\n",
        "#Y = l_train_data[:, 21]\n",
        "X = l_train_data[:, 1:21]\n",
        "Y = l_train_data[:, 21]\n",
        "X_test = l_test_data[:, 1:21]\n",
        "Y_test = l_test_data[:,21]\n",
        "\n",
        "\n",
        "print(X.shape)\n",
        "print(X_test.shape)\n",
        "\n",
        "Y.shape = (50000, 1)\n",
        "Y_test.shape = (10000, 1)\n",
        "\n",
        "print(Y.shape)\n",
        "print(Y_test.shape)\n",
        "\n",
        "\n"
      ],
      "metadata": {
        "id": "hVi2E8l6JHfQ",
        "colab": {
          "base_uri": "https://localhost:8080/"
        },
        "outputId": "8261d385-0a5d-4111-8a5b-0ee18203294b"
      },
      "execution_count": null,
      "outputs": [
        {
          "output_type": "stream",
          "name": "stdout",
          "text": [
            "(50000, 20)\n",
            "(10000, 20)\n",
            "(50000, 1)\n",
            "(10000, 1)\n"
          ]
        }
      ]
    },
    {
      "cell_type": "code",
      "source": [
        "# Mean Normalization\n",
        "def M_regularisation(a):\n",
        "  Mean_colm = np.mean(a, axis =0)\n",
        "  std_dev = np.std(a, axis=0)\n",
        "  a = (a - Mean_colm)/std_dev\n",
        "  return a\n",
        "\n",
        "X = M_regularisation(X)\n",
        "X_test = M_regularisation(X_test)\n",
        "print(Y)"
      ],
      "metadata": {
        "id": "x_mOlVUdJHi2",
        "colab": {
          "base_uri": "https://localhost:8080/"
        },
        "outputId": "27e25929-25f7-4103-b4a6-43f390657acf"
      },
      "execution_count": null,
      "outputs": [
        {
          "output_type": "stream",
          "name": "stdout",
          "text": [
            "[[  311.23249087]\n",
            " [ 6393.11234169]\n",
            " [ 2601.04622323]\n",
            " ...\n",
            " [ 1483.91702162]\n",
            " [10720.1391803 ]\n",
            " [ 2185.12795794]]\n"
          ]
        }
      ]
    },
    {
      "cell_type": "code",
      "source": [
        "print(X)"
      ],
      "metadata": {
        "colab": {
          "base_uri": "https://localhost:8080/"
        },
        "id": "A1aRT6j8Ajdd",
        "outputId": "8a68ab03-299e-4094-9e2c-8049c64aa667"
      },
      "execution_count": null,
      "outputs": [
        {
          "output_type": "stream",
          "name": "stdout",
          "text": [
            "[[-0.34799407  0.22031433  0.28511282 ... -0.15582334  1.0052814\n",
            "   1.00876462]\n",
            " [-0.61114616  0.19984917  0.42713042 ...  1.29439989  0.44683234\n",
            "  -1.12340336]\n",
            " [-0.98256011 -0.67757616 -1.23346387 ... -0.20664643  0.52015407\n",
            "  -1.18447479]\n",
            " ...\n",
            " [-0.924919   -1.45426802  0.68461602 ...  0.8468317   0.41256961\n",
            "  -1.21414073]\n",
            " [ 1.71021016 -0.28618815  0.51544114 ... -0.95334269  1.31811777\n",
            "  -0.36359261]\n",
            " [-0.90157434  0.61791579 -1.20074042 ... -1.63664414 -0.1163058\n",
            "  -1.67297842]]\n"
          ]
        }
      ]
    },
    {
      "cell_type": "code",
      "source": [
        "m1 = len(X)\n",
        "m2 = len(X_test)\n",
        "\n",
        "X = np.concatenate((np.ones((m1,1)), X), axis=1)\n",
        "X_test = np.concatenate((np.ones((m2,1)), X_test), axis=1)\n",
        "\n",
        "n= np.size(X,1)\n",
        "theata= np.ones((n, 1))\n",
        "\n",
        "print(n)\n",
        "print(np.size(X,1))\n",
        "print(np.size(X_test,1))\n"
      ],
      "metadata": {
        "id": "zPZOFODYJPOX",
        "colab": {
          "base_uri": "https://localhost:8080/"
        },
        "outputId": "cf51e015-b0f2-4854-ef00-80489b4e72ee"
      },
      "execution_count": null,
      "outputs": [
        {
          "output_type": "stream",
          "name": "stdout",
          "text": [
            "21\n",
            "21\n",
            "21\n"
          ]
        }
      ]
    },
    {
      "cell_type": "code",
      "source": [
        "print(X)"
      ],
      "metadata": {
        "colab": {
          "base_uri": "https://localhost:8080/"
        },
        "id": "OxYnfn8WAFau",
        "outputId": "6299c59b-fd50-4a56-9288-08df2ea4dbe2"
      },
      "execution_count": null,
      "outputs": [
        {
          "output_type": "stream",
          "name": "stdout",
          "text": [
            "[[ 1.         -0.34799407  0.22031433 ... -0.15582334  1.0052814\n",
            "   1.00876462]\n",
            " [ 1.         -0.61114616  0.19984917 ...  1.29439989  0.44683234\n",
            "  -1.12340336]\n",
            " [ 1.         -0.98256011 -0.67757616 ... -0.20664643  0.52015407\n",
            "  -1.18447479]\n",
            " ...\n",
            " [ 1.         -0.924919   -1.45426802 ...  0.8468317   0.41256961\n",
            "  -1.21414073]\n",
            " [ 1.          1.71021016 -0.28618815 ... -0.95334269  1.31811777\n",
            "  -0.36359261]\n",
            " [ 1.         -0.90157434  0.61791579 ... -1.63664414 -0.1163058\n",
            "  -1.67297842]]\n"
          ]
        }
      ]
    },
    {
      "cell_type": "code",
      "source": [
        "# defining training \n",
        "def training_linear(X, Y, theata, alpha, no_of_iteration):\n",
        "  \n",
        "  # initializing parameters\n",
        "  m = len(X)\n",
        "    \n",
        "  # loop for training model\n",
        "  for i in range(no_of_iteration):\n",
        "    #hypothesis\n",
        "    Y_pred = np.dot(X, theata)\n",
        "            \n",
        "    #cost function\n",
        "    cost = (np.sum((Y_pred - Y)**2))/(2*m)\n",
        "            \n",
        "    #gradient descent \n",
        "    theata -= (alpha/m)* (np.dot(np.transpose(X), (Y_pred - Y)))\n",
        "   \n",
        "    plt.scatter(i, cost)\n",
        "        \n",
        "    if i%20==0:\n",
        "      print(\"this is corresponding cost\", cost)\n",
        "  return theata\n",
        "            "
      ],
      "metadata": {
        "id": "A2NGEgQGJPVo"
      },
      "execution_count": null,
      "outputs": []
    },
    {
      "cell_type": "code",
      "source": [
        "theata  = training_linear(X, Y,theata, alpha= .03, no_of_iteration= 500)"
      ],
      "metadata": {
        "id": "5yKOzra7JXO8",
        "colab": {
          "base_uri": "https://localhost:8080/",
          "height": 710
        },
        "outputId": "08e81355-3f7e-42e5-c281-160569a83508"
      },
      "execution_count": null,
      "outputs": [
        {
          "output_type": "stream",
          "name": "stdout",
          "text": [
            "this is corresponding cost 13389266.93597763\n",
            "this is corresponding cost 3975709.511218919\n",
            "this is corresponding cost 1182013.910304953\n",
            "this is corresponding cost 352530.9119004547\n",
            "this is corresponding cost 106131.09816002521\n",
            "this is corresponding cost 32902.79134627812\n",
            "this is corresponding cost 11129.481566413488\n",
            "this is corresponding cost 4652.424544706309\n",
            "this is corresponding cost 2724.723773617461\n",
            "this is corresponding cost 2150.725182859294\n",
            "this is corresponding cost 1979.7268577679188\n",
            "this is corresponding cost 1928.7605609240081\n",
            "this is corresponding cost 1913.5626216007993\n",
            "this is corresponding cost 1909.0284621099754\n",
            "this is corresponding cost 1907.6750837238753\n",
            "this is corresponding cost 1907.2709251661342\n",
            "this is corresponding cost 1907.1501732571062\n",
            "this is corresponding cost 1907.1140783984993\n",
            "this is corresponding cost 1907.1032838353085\n",
            "this is corresponding cost 1907.1000540599748\n",
            "this is corresponding cost 1907.0990872390519\n",
            "this is corresponding cost 1907.0987976880422\n",
            "this is corresponding cost 1907.0987109303228\n",
            "this is corresponding cost 1907.098684923116\n",
            "this is corresponding cost 1907.098677123373\n"
          ]
        },
        {
          "output_type": "display_data",
          "data": {
            "text/plain": [
              "<Figure size 432x288 with 1 Axes>"
            ],
            "image/png": "[encoded data removed]"
          },
          "metadata": {
            "needs_background": "light"
          }
        }
      ]
    },
    {
      "cell_type": "code",
      "source": [
        "print(X_test)\n",
        "X_test.shape"
      ],
      "metadata": {
        "colab": {
          "base_uri": "https://localhost:8080/"
        },
        "id": "nbvHeVRS9PQE",
        "outputId": "cab92f90-7c5e-4cb2-bec5-7f3cbcb000b3"
      },
      "execution_count": null,
      "outputs": [
        {
          "output_type": "stream",
          "name": "stdout",
          "text": [
            "[[ 1.          1.41899979 -1.10382181 ... -0.69517339 -0.19489326\n",
            "  -0.97652993]\n",
            " [ 1.          1.66716943 -0.02590781 ...  0.96093801  0.74538325\n",
            "  -0.83992295]\n",
            " [ 1.          0.34624395 -0.65815272 ... -1.60018835 -1.72859476\n",
            "   1.26697399]\n",
            " ...\n",
            " [ 1.         -1.19217223  0.43234797 ... -0.251815   -0.88537381\n",
            "   1.62494049]\n",
            " [ 1.         -1.05450277  0.36103178 ...  1.29391763 -0.97594245\n",
            "  -0.64162   ]\n",
            " [ 1.          1.38329327 -0.50329733 ...  1.32789681 -0.10081834\n",
            "  -1.33956845]]\n"
          ]
        },
        {
          "output_type": "execute_result",
          "data": {
            "text/plain": [
              "(10000, 21)"
            ]
          },
          "metadata": {},
          "execution_count": 77
        }
      ]
    },
    {
      "cell_type": "code",
      "source": [
        "#def test_linear(X_test, Y_test, theata):\n",
        "    \n",
        "m_test = len(X_test)\n",
        "    \n",
        "#hypothesis\n",
        "Y_Pred = np.dot(X_test, theata)\n",
        "    \n",
        "# cost\n",
        "cost_test = (np.sum((Y_Pred - Y_test)**2))/(2*m_test)\n",
        "    \n",
        "# ploting \n",
        "print(cost_test)"
      ],
      "metadata": {
        "id": "0mfqF_YtJhV4",
        "colab": {
          "base_uri": "https://localhost:8080/"
        },
        "outputId": "34987698-a4b0-4d61-d28b-337108fb4eba"
      },
      "execution_count": null,
      "outputs": [
        {
          "output_type": "stream",
          "name": "stdout",
          "text": [
            "2794.587945445936\n"
          ]
        }
      ]
    },
    {
      "cell_type": "code",
      "source": [
        "#r2 score for test\n",
        "def r_score(test, pred):\n",
        "  deno = np.sum((np.mean(test) - test)**2)\n",
        "  nemo = np.sum((pred - test)**2)\n",
        "  \n",
        "  r2_score = 1 - (nemo/deno)\n",
        "  return r2_score"
      ],
      "metadata": {
        "id": "hAW9I9Ru-Meq"
      },
      "execution_count": null,
      "outputs": []
    },
    {
      "cell_type": "code",
      "source": [
        "r_score(Y_test, Y_Pred)"
      ],
      "metadata": {
        "colab": {
          "base_uri": "https://localhost:8080/"
        },
        "id": "AhmVf9TlCTI4",
        "outputId": "7726e300-e543-4641-bbf3-0b77bcb1036e"
      },
      "execution_count": null,
      "outputs": [
        {
          "output_type": "execute_result",
          "data": {
            "text/plain": [
              "0.9997690408858375"
            ]
          },
          "metadata": {},
          "execution_count": 80
        }
      ]
    }
  ]
}